{
 "cells": [
  {
   "cell_type": "code",
   "execution_count": 45,
   "metadata": {
    "collapsed": false,
    "deletable": true,
    "editable": true
   },
   "outputs": [],
   "source": [
    "import numpy as np\n",
    "import itertools\n",
    "import math\n",
    "from collections import namedtuple\n",
    "from graphviz import Digraph\n",
    "from scipy.stats import norm\n",
    "import matplotlib.pyplot as plt\n",
    "from random import random"
   ]
  },
  {
   "cell_type": "code",
   "execution_count": 21,
   "metadata": {
    "collapsed": true,
    "deletable": true,
    "editable": true
   },
   "outputs": [],
   "source": [
    "def gen_permutations(n):\n",
    "    res = [list(seq) for seq in itertools.product([0,1], repeat=n)]\n",
    "    return np.array(res)\n",
    "\n",
    "def gen_permutations_nz(n):\n",
    "    res = [list(seq) for seq in itertools.product([0,1], repeat=n)]\n",
    "    del res[0]\n",
    "    return np.array(res)"
   ]
  },
  {
   "cell_type": "markdown",
   "metadata": {
    "deletable": true,
    "editable": true
   },
   "source": [
    "### Исходная матрица"
   ]
  },
  {
   "cell_type": "code",
   "execution_count": 22,
   "metadata": {
    "collapsed": true,
    "deletable": true,
    "editable": true
   },
   "outputs": [],
   "source": [
    "table = np.array([\n",
    "    [0, 1, 1, 0, 0, 0, 1, 1, 0, 0],\n",
    "    [0, 0, 0, 1, 1, 0, 1, 0, 0, 1],\n",
    "    [1, 1, 1, 0, 1, 1, 0, 0, 0, 0],\n",
    "    [1, 0, 1, 0, 0, 0, 1, 0, 1, 1]\n",
    "]);"
   ]
  },
  {
   "cell_type": "markdown",
   "metadata": {
    "deletable": true,
    "editable": true
   },
   "source": [
    "###  Задание 4.2"
   ]
  },
  {
   "cell_type": "markdown",
   "metadata": {
    "deletable": true,
    "editable": true
   },
   "source": [
    "#### Декодирование по максимуму правдоподобия"
   ]
  },
  {
   "cell_type": "code",
   "execution_count": 51,
   "metadata": {
    "collapsed": true,
    "deletable": true,
    "editable": true
   },
   "outputs": [],
   "source": [
    "def mp(L, codes):\n",
    "    epsilons = 2 * codes - 1\n",
    "    def decode(y):\n",
    "        return np.argmax(np.dot(epsilons, L(y)))\n",
    "    return decode"
   ]
  },
  {
   "cell_type": "markdown",
   "metadata": {
    "deletable": true,
    "editable": true
   },
   "source": [
    "#### Декодирование по максимуму апостореорной вероятности"
   ]
  },
  {
   "cell_type": "code",
   "execution_count": 24,
   "metadata": {
    "collapsed": true,
    "deletable": true,
    "editable": true
   },
   "outputs": [],
   "source": [
    "class mav(L, codes, p_codes): \n",
    "    epsilons = 2 * codes - 1\n",
    "    def decode(y):\n",
    "        return np.argmax(np.dot(epsilons, L(y)) * p_codes)\n",
    "    return decode"
   ]
  },
  {
   "cell_type": "markdown",
   "metadata": {},
   "source": [
    "#### Передача по каналу без кодирования"
   ]
  },
  {
   "cell_type": "code",
   "execution_count": 149,
   "metadata": {
    "collapsed": true
   },
   "outputs": [],
   "source": [
    "def no_coding(infos):\n",
    "    def decode(y):\n",
    "        return np.where(np.all(infos == y,axis=1))[0][0] \n",
    "    return decode\n",
    "\n",
    "def no_coding_abgh(infos):\n",
    "    def decode(y):\n",
    "        res = (np.sign(y) + 1) / 2\n",
    "        return np.where(np.all(infos == y,axis=1))[0][0] \n",
    "    return decode"
   ]
  },
  {
   "cell_type": "markdown",
   "metadata": {
    "deletable": true,
    "editable": true
   },
   "source": [
    "#### Отношения правдоподобия L для ДСК и канала с АБГШ"
   ]
  },
  {
   "cell_type": "code",
   "execution_count": 131,
   "metadata": {
    "collapsed": false,
    "deletable": true,
    "editable": true
   },
   "outputs": [],
   "source": [
    "def L_bsc(p0):\n",
    "    def f(y):\n",
    "        sigma = math.log((1 - p0) / p0)\n",
    "        return sigma * (2 * y - 1)\n",
    "    return f\n",
    "\n",
    "def L_awgn(y):\n",
    "    return y"
   ]
  },
  {
   "cell_type": "markdown",
   "metadata": {
    "deletable": true,
    "editable": true
   },
   "source": [
    "#### Кодовые слова для порождающей матрицы `table`"
   ]
  },
  {
   "cell_type": "code",
   "execution_count": 132,
   "metadata": {
    "collapsed": false,
    "deletable": true,
    "editable": true
   },
   "outputs": [
    {
     "name": "stdout",
     "output_type": "stream",
     "text": [
      "[[0 0 0 0 0 0 0 0 0 0]\n",
      " [1 0 1 0 0 0 1 0 1 1]\n",
      " [1 1 1 0 1 1 0 0 0 0]\n",
      " [0 1 0 0 1 1 1 0 1 1]\n",
      " [0 0 0 1 1 0 1 0 0 1]\n",
      " [1 0 1 1 1 0 0 0 1 0]\n",
      " [1 1 1 1 0 1 1 0 0 1]\n",
      " [0 1 0 1 0 1 0 0 1 0]\n",
      " [0 1 1 0 0 0 1 1 0 0]\n",
      " [1 1 0 0 0 0 0 1 1 1]\n",
      " [1 0 0 0 1 1 1 1 0 0]\n",
      " [0 0 1 0 1 1 0 1 1 1]\n",
      " [0 1 1 1 1 0 0 1 0 1]\n",
      " [1 1 0 1 1 0 1 1 1 0]\n",
      " [1 0 0 1 0 1 0 1 0 1]\n",
      " [0 0 1 1 0 1 1 1 1 0]]\n"
     ]
    }
   ],
   "source": [
    "infos = gen_permutations(table.shape[0])\n",
    "codes = infos.dot(table) % 2\n",
    "print(codes)"
   ]
  },
  {
   "cell_type": "markdown",
   "metadata": {},
   "source": [
    "####  Подсчёт энергетического выйгрыша\n",
    "\n",
    "Считая, вероятность отправки по каналу каждого кодового слова равновероятная, декодированию по МАВ даёт такие же результаты что и декодирование по МП. Поэтому энергетический выйгрыш посчитан только для декодирования по МП.\n"
   ]
  },
  {
   "cell_type": "code",
   "execution_count": 175,
   "metadata": {
    "collapsed": false
   },
   "outputs": [],
   "source": [
    "def bsc_prob(val):\n",
    "    return 1 - norm.cdf(np.sqrt(2 * val))\n",
    "\n",
    "\n",
    "def bsc_spoiler(p, codes):\n",
    "    def spoil(i):\n",
    "        code = codes[i]\n",
    "        result = []\n",
    "        for i in code:\n",
    "            if random() < p:\n",
    "                result.append((i + 1) % 2)\n",
    "            else:\n",
    "                result.append(i)\n",
    "        return np.array(result)\n",
    "    return spoil\n",
    "\n",
    "\n",
    "\n",
    "def difference(a, b):\n",
    "    count = 0\n",
    "    for x, y in zip(a, b):\n",
    "        count += (x != y)\n",
    "    return count\n",
    "\n",
    "N = 3000\n",
    "def get_error_probability(decode, encode, infos):\n",
    "    diff = 0\n",
    "    k = infos.shape[1]\n",
    "    for i in range(N):\n",
    "        for j in range(infos.shape[0]):\n",
    "            received = encode(j)\n",
    "            diff += difference(infos[j], infos[decode(received)])\n",
    "    return diff / float((N * k * (2 ** k)))\n",
    "\n",
    "\n",
    "\n",
    "values = [0.1 * (i + 2) for i in range(100)]\n",
    "x = [10 * np.log10(val) for val in values]\n",
    "probs = [bsc_prob(val) for val in values]\n",
    "bsc_probs  = [get_error_probability(mp(L_bsc(p), codes), bsc_spoiler(p, codes), infos) for p in probs]"
   ]
  },
  {
   "cell_type": "markdown",
   "metadata": {},
   "source": [
    "##### 1. Cлучай ДСК"
   ]
  },
  {
   "cell_type": "code",
   "execution_count": 176,
   "metadata": {
    "collapsed": false
   },
   "outputs": [
    {
     "data": {
      "image/png": "[encoded data removed]",
      "text/plain": [
       "<matplotlib.figure.Figure at 0x7f1cfcad1518>"
      ]
     },
     "metadata": {},
     "output_type": "display_data"
    }
   ],
   "source": [
    "bsc_plot,     = plt.semilogy(x, bsc_probs, 'r', label=\"декодирование по МП\")\n",
    "nocode_plot, = plt.semilogy(x, probs,    'g', label=\"без кодирования\")\n",
    "plt.legend(handles=[mp_plot, nocode_plot])\n",
    "plt.title(\"Декодирование ДСК\")\n",
    "plt.ylabel(\"bit error probability\")\n",
    "plt.xlabel(\"E_b / N_0\")\n",
    "plt.gca().grid(True)\n",
    "plt.show()"
   ]
  },
  {
   "cell_type": "code",
   "execution_count": 177,
   "metadata": {
    "collapsed": false
   },
   "outputs": [
    {
     "name": "stdout",
     "output_type": "stream",
     "text": [
      "\n",
      "E_b / N_0 при декодировании по МП      = 4.91 дБ\n",
      "E_b / N_0 при передачи без кодирования = 8.39 дБ\n",
      "\n",
      "Энергетический выйгрыш кодирования при ДСК = 3.47 дБ\n"
     ]
    }
   ],
   "source": [
    "required_bep = 10e-5\n",
    "\n",
    "def find_required_bep_index(a):\n",
    "    return (np.abs(np.array(a) - required_bep)).argmin() \n",
    "\n",
    "mp_bsc_index = find_required_bep_index(bsc_probs)\n",
    "nocode_index = find_required_bep_index(probs)\n",
    "\n",
    "print()\n",
    "print(\"E_b / N_0 при декодировании по МП      = {0:.2f} дБ\".format(x[mp_bsc_index]))\n",
    "print(\"E_b / N_0 при передачи без кодирования = {0:.2f} дБ\".format(x[nocode_index]))\n",
    "print()\n",
    "print(\"Энергетический выйгрыш кодирования при ДСК = {0:.2f} дБ\".format(x[nocode_index] - x[mp_bsc_index]))"
   ]
  },
  {
   "cell_type": "markdown",
   "metadata": {},
   "source": [
    "##### 2. Cлучай канала с АБГШ"
   ]
  },
  {
   "cell_type": "code",
   "execution_count": null,
   "metadata": {
    "collapsed": false
   },
   "outputs": [],
   "source": [
    "def awgn_sigma(val, R):\n",
    "    return np.sqrt(10. ** (-val / 10) / 2 / R)\n",
    "\n",
    "def awgn_spoiler(sigma, codes):\n",
    "    def spoil(i):\n",
    "        code = codes[i]\n",
    "        x = 2 * code - 1\n",
    "        return x + sigma * np.random.randn(code.shape[0])\n",
    "    return spoil\n",
    "\n",
    "awgn_probs = [get_error_probability(mp(L_awgn, codes), awgn_spoiler(awgn_sigma(val, 0.4), codes), infos) for val in values]"
   ]
  },
  {
   "cell_type": "code",
   "execution_count": 168,
   "metadata": {
    "collapsed": false
   },
   "outputs": [
    {
     "data": {
      "image/png": "[encoded data removed]",
      "text/plain": [
       "<matplotlib.figure.Figure at 0x7f1cfcac7208>"
      ]
     },
     "metadata": {},
     "output_type": "display_data"
    }
   ],
   "source": [
    "awgn_plot,     = plt.semilogy(x, awgn_probs, 'r', label=\"декодирование по МП\")\n",
    "nocode_plot, = plt.semilogy(x, probs,    'g', label=\"без кодирования\")\n",
    "plt.legend(handles=[mp_plot, nocode_plot])\n",
    "plt.title(\"Декодирование канала с АБГШ\")\n",
    "plt.ylabel(\"bit error probability\")\n",
    "plt.xlabel(\"E_b / N_0\")\n",
    "plt.gca().grid(True)\n",
    "plt.show()"
   ]
  },
  {
   "cell_type": "code",
   "execution_count": 169,
   "metadata": {
    "collapsed": false
   },
   "outputs": [
    {
     "name": "stdout",
     "output_type": "stream",
     "text": [
      "\n",
      "E_b / N_0 при декодировании по МП      = 8.20 дБ\n",
      "E_b / N_0 при передачи без кодирования = 8.39 дБ\n",
      "\n",
      "Энергетический выйгрыш кодирования при канале с АБГШ = 0.19 дБ\n"
     ]
    }
   ],
   "source": [
    "mp_awgn_index = find_required_bep_index(awgn_probs)\n",
    "\n",
    "print()\n",
    "print(\"E_b / N_0 при декодировании по МП      = {0:.2f} дБ\".format(x[mp_awgn_index]))\n",
    "print(\"E_b / N_0 при передачи без кодирования = {0:.2f} дБ\".format(x[nocode_index]))\n",
    "print()\n",
    "print(\"Энергетический выйгрыш кодирования при канале с АБГШ = {0:.2f} дБ\".format(x[nocode_index] - x[mp_awgn_index]))"
   ]
  },
  {
   "cell_type": "markdown",
   "metadata": {
    "deletable": true,
    "editable": true
   },
   "source": [
    "### Задача 4.4"
   ]
  },
  {
   "cell_type": "code",
   "execution_count": 9,
   "metadata": {
    "collapsed": false,
    "deletable": true,
    "editable": true
   },
   "outputs": [],
   "source": [
    "m = None\n",
    "    \n",
    "def xor(row1, row2):\n",
    "    global m\n",
    "    print(\"{} += {}\".format(row1, row2))\n",
    "    m[row1] = np.mod(m[row1] + m[row2], 2)\n",
    "    \n",
    "def swap(row1, row2):\n",
    "    global m\n",
    "    print(\"swap({}, {})\".format(row1, row2))\n",
    "    m[[row1, row2]] = m[[row2, row1]]\n"
   ]
  },
  {
   "cell_type": "markdown",
   "metadata": {
    "deletable": true,
    "editable": true
   },
   "source": [
    "#### Приведение к МСФ \n",
    "\n",
    "Пребразуем матрицу `table` к МСФ:"
   ]
  },
  {
   "cell_type": "code",
   "execution_count": 10,
   "metadata": {
    "collapsed": false,
    "deletable": true,
    "editable": true
   },
   "outputs": [
    {
     "name": "stdout",
     "output_type": "stream",
     "text": [
      "3 += 2\n",
      "3 += 0\n",
      "3 += 1\n",
      "\n",
      "[[0 1 1 0 0 0 1 1 0 0]\n",
      " [0 0 0 1 1 0 1 0 0 1]\n",
      " [1 1 1 0 1 1 0 0 0 0]\n",
      " [0 0 1 1 0 1 1 1 1 0]] \n",
      "\n",
      "swap(0, 2)\n",
      "swap(1, 3)\n",
      "swap(1, 2)\n",
      "\n",
      "Порождающая матрица, приведенная к МСФ:\n",
      "[[1 1 1 0 1 1 0 0 0 0]\n",
      " [0 1 1 0 0 0 1 1 0 0]\n",
      " [0 0 1 1 0 1 1 1 1 0]\n",
      " [0 0 0 1 1 0 1 0 0 1]]\n"
     ]
    }
   ],
   "source": [
    "m = table.copy()\n",
    "\n",
    "xor(3, 2)\n",
    "xor(3, 0)\n",
    "xor(3, 1)\n",
    "\n",
    "print()\n",
    "print(m, \"\\n\")\n",
    "\n",
    "swap(0, 2)\n",
    "swap(1, 3)\n",
    "swap(1, 2)\n",
    "\n",
    "print(\"\\nПорождающая матрица, приведенная к МСФ:\")\n",
    "print(m)"
   ]
  },
  {
   "cell_type": "markdown",
   "metadata": {
    "deletable": true,
    "editable": true
   },
   "source": [
    "#### Построение минимальной решетки по порождающей матрице в МСФ"
   ]
  },
  {
   "cell_type": "code",
   "execution_count": 11,
   "metadata": {
    "collapsed": false,
    "deletable": true,
    "editable": true
   },
   "outputs": [],
   "source": [
    "# Узел решетки        \n",
    "Node = namedtuple(\"Node\", \"actives uid edges\")   \n",
    "\n",
    "ids = 0\n",
    "def new_node(actives):\n",
    "    global ids\n",
    "    ids += 1\n",
    "    return Node(actives, ids - 1, [])\n",
    "  \n",
    "def count_label(node):\n",
    "    return \"\".join(map(str, node.actives.values()))"
   ]
  },
  {
   "cell_type": "code",
   "execution_count": 12,
   "metadata": {
    "collapsed": false,
    "deletable": true,
    "editable": true
   },
   "outputs": [],
   "source": [
    "# Построим узлы решётки\n",
    "g = m\n",
    "begins = np.apply_along_axis(lambda row: np.min(np.flatnonzero(row)), 1, g)\n",
    "ends   = np.apply_along_axis(lambda row: np.max(np.flatnonzero(row)), 1, g)\n",
    "\n",
    "# print(\"Begin:\", begins)\n",
    "# print(\"End:  \", ends)\n",
    "\n",
    "ids = 0\n",
    "layers  = [[new_node(dict())]]\n",
    "actives = [[]]\n",
    "for i in range(0, g.shape[1]):\n",
    "    layer  = []\n",
    "    active = np.nonzero(np.logical_and(begins <= i, i < ends))[0]\n",
    "    node_values = gen_permutations(len(active))\n",
    "    for node_value in node_values:\n",
    "        layer.append(new_node(dict(zip(active, node_value))))\n",
    "    \n",
    "    layers.append(layer)\n",
    "    actives.append(active + 1)\n",
    "\n",
    "# print()\n",
    "# for i, layer in enumerate(layers):\n",
    "#     print(\"Layer\", i, \"symbols\", actives[i], \"nodes\", \", \".join(map(lambda n: \"{} : {}\".format(n.uid, count_label(n)), layer)))\n"
   ]
  },
  {
   "cell_type": "code",
   "execution_count": 13,
   "metadata": {
    "collapsed": false,
    "deletable": true,
    "editable": true,
    "scrolled": true
   },
   "outputs": [],
   "source": [
    "# Построим ребра решётки\n",
    "for i in range(len(layers) - 1):\n",
    "#     print(\"Layer \", i)\n",
    "    cur_layer = layers[i]\n",
    "    nex_layer = layers[i + 1]\n",
    "    for cur_node in cur_layer:\n",
    "        for nex_node in nex_layer:\n",
    "            isymbols = np.zeros(g.shape[0], np.int64) \n",
    "            mismatched = False\n",
    "            for pos in range(len(isymbols)):\n",
    "                value = cur_node.actives.get(pos)\n",
    "                if value is None:\n",
    "                    value = nex_node.actives.get(pos)\n",
    "                    if value is None:\n",
    "                        value = 0\n",
    "                else:\n",
    "                    nex_value = nex_node.actives.get(pos)\n",
    "                    if nex_value is not None and nex_value != value:\n",
    "                        mismatched = True\n",
    "                        break\n",
    "                isymbols[pos] = value\n",
    "            if mismatched:\n",
    "                continue\n",
    "            c = np.mod(np.dot(g[:,i], isymbols) , 2)\n",
    "#             print(\"{} --{}--> {}\".format(cur_node.uid, c, nex_node.uid))\n",
    "            cur_node.edges.append((c, nex_node))"
   ]
  },
  {
   "cell_type": "code",
   "execution_count": 14,
   "metadata": {
    "collapsed": false,
    "deletable": true,
    "editable": true
   },
   "outputs": [
    {
     "data": {
      "text/plain": [
       "'res_spen.pdf'"
      ]
     },
     "execution_count": 14,
     "metadata": {},
     "output_type": "execute_result"
    }
   ],
   "source": [
    "# Построение графа с помощью утилиты graphviz \n",
    "dot = Digraph()\n",
    "dot.graph_attr['rankdir'] = 'LR'\n",
    "dot.graph_attr['nodesep'] = '0'\n",
    "dot.graph_attr['ranksep'] = '1'\n",
    "dot.graph_attr['splines'] = 'polyline'\n",
    "for i, layer in enumerate(layers):\n",
    "    with dot.subgraph(name='cluster_{}'.format(i)) as c:\n",
    "        c.attr(label='layer #{}\\nsymbols {}'.format(i, actives[i]), pencolor='transparent')\n",
    "        for node in layer:\n",
    "            label = count_label(node)\n",
    "            c.node(str(node.uid), label)\n",
    "            for edge in node.edges:\n",
    "                dot.edge(str(node.uid), str(edge[1].uid), str(edge[0]))\n",
    "\n",
    "dot.render('res_spen')  "
   ]
  },
  {
   "cell_type": "markdown",
   "metadata": {
    "deletable": true,
    "editable": true
   },
   "source": [
    "#### Построение решетки по проверочной матрице"
   ]
  },
  {
   "cell_type": "code",
   "execution_count": 15,
   "metadata": {
    "collapsed": true,
    "deletable": true,
    "editable": true
   },
   "outputs": [],
   "source": [
    "# Узел решетки        \n",
    "Node = namedtuple(\"Node\", \"uid edges\")   \n",
    "\n",
    "ids = 0\n",
    "def new_node():\n",
    "    global ids\n",
    "    ids += 1\n",
    "    return Node(ids - 1, dict())"
   ]
  },
  {
   "cell_type": "code",
   "execution_count": 16,
   "metadata": {
    "collapsed": true,
    "deletable": true,
    "editable": true
   },
   "outputs": [],
   "source": [
    "\n",
    "h = table\n",
    "h_slices = dict()\n",
    "n = table.shape[1]\n",
    "for i in range(1, n + 1):\n",
    "    h_slices[i] = table[:, 0:i].T\n",
    "\n",
    "codes = []\n",
    "for code in gen_permutations(table.shape[1]):\n",
    "    if not np.any(np.mod(np.dot(h, code), 2)):\n",
    "        codes.append(code)"
   ]
  },
  {
   "cell_type": "code",
   "execution_count": 17,
   "metadata": {
    "collapsed": false,
    "deletable": true,
    "editable": true,
    "scrolled": false
   },
   "outputs": [],
   "source": [
    "ids = 0\n",
    "layers = [dict() for i in range(len(h_slices) + 1)]\n",
    "root = new_node()\n",
    "layers[0][(0,) * table.shape[0]] = root\n",
    "for code in codes:\n",
    "    prev_node = root\n",
    "    for i in range(1, n + 1):\n",
    "        l = layers[i]\n",
    "        syndrom = tuple(np.mod(np.dot(code[0:i], h_slices[i]), 2).tolist())\n",
    "        if syndrom in l:\n",
    "            node = l[syndrom]\n",
    "        else:\n",
    "            node = new_node()\n",
    "            l[syndrom] = node\n",
    "        prev_node.edges[code[i - 1]] = node\n",
    "        prev_node = node"
   ]
  },
  {
   "cell_type": "code",
   "execution_count": 19,
   "metadata": {
    "collapsed": false,
    "deletable": true,
    "editable": true
   },
   "outputs": [
    {
     "data": {
      "text/plain": [
       "'res_h.pdf'"
      ]
     },
     "execution_count": 19,
     "metadata": {},
     "output_type": "execute_result"
    }
   ],
   "source": [
    "# Построение графа с помощью утилиты graphviz \n",
    "dot = Digraph()\n",
    "dot.graph_attr['rankdir'] = 'LR'\n",
    "dot.graph_attr['nodesep'] = '0'\n",
    "dot.graph_attr['ranksep'] = '1.5'\n",
    "dot.graph_attr['splines'] = 'polyline'\n",
    "for i, layer in enumerate(layers):\n",
    "    with dot.subgraph(name='cluster_{}'.format(i)) as c:\n",
    "        c.attr(label='layer #{}'.format(i), pencolor='transparent')\n",
    "        for syndrom, node in layer.items():\n",
    "            lbl = \"\".join(map(str, syndrom))\n",
    "            c.node(str(node.uid), lbl)\n",
    "            for v, nextnode in node.edges.items():\n",
    "                dot.edge(str(node.uid), str(nextnode.uid), str(v))\n",
    "\n",
    "dot.render('res_h')"
   ]
  },
  {
   "cell_type": "code",
   "execution_count": null,
   "metadata": {
    "collapsed": true,
    "deletable": true,
    "editable": true
   },
   "outputs": [],
   "source": []
  }
 ],
 "metadata": {
  "celltoolbar": "Raw Cell Format",
  "kernelspec": {
   "display_name": "Python 3",
   "language": "python",
   "name": "python3"
  },
  "language_info": {
   "codemirror_mode": {
    "name": "ipython",
    "version": 3
   },
   "file_extension": ".py",
   "mimetype": "text/x-python",
   "name": "python",
   "nbconvert_exporter": "python",
   "pygments_lexer": "ipython3",
   "version": "3.5.2"
  }
 },
 "nbformat": 4,
 "nbformat_minor": 2
}
