{
 "cells": [
  {
   "cell_type": "markdown",
   "metadata": {},
   "source": [
    "## Задача 1"
   ]
  },
  {
   "cell_type": "code",
   "execution_count": 1,
   "metadata": {},
   "outputs": [],
   "source": [
    "import numpy as np\n",
    "import itertools\n",
    "import math\n",
    "from collections import namedtuple\n",
    "from graphviz import Digraph\n",
    "from scipy.stats import norm\n",
    "from random import random"
   ]
  },
  {
   "cell_type": "markdown",
   "metadata": {},
   "source": [
    "## Ввод для задачи 1"
   ]
  },
  {
   "cell_type": "code",
   "execution_count": 2,
   "metadata": {},
   "outputs": [
    {
     "name": "stdout",
     "output_type": "stream",
     "text": [
      "G * H^T: (must be zero, otherwise you suck)\n",
      "[[0 0 0]\n",
      " [0 0 0]\n",
      " [0 0 0]]\n"
     ]
    }
   ],
   "source": [
    "H = np.array([\n",
    "    [1, 0, 1, 1, 0, 0],\n",
    "    [0, 1, 0, 1, 1, 0],\n",
    "    [0, 0, 1, 0, 1, 1]\n",
    "])\n",
    "\n",
    "H_sym = np.array([\n",
    "    [1, 0, 1, 1, 0, 0],\n",
    "    [1, 1, 1, 0, 1, 0],\n",
    "    [1, 1, 0, 0, 0, 1]\n",
    "])\n",
    "\n",
    "G = np.array([\n",
    "    [1, 0, 0, 1, 1, 1],\n",
    "    [0, 1, 0, 0, 1, 1],\n",
    "    [0, 0, 1, 1, 1, 0]\n",
    "])\n",
    "\n",
    "G_MSF = np.array([\n",
    "    [1, 1, 0, 1, 0, 0],\n",
    "    [0, 1, 0, 0, 1, 1],\n",
    "    [0, 0, 1, 1, 1, 0]\n",
    "])\n",
    "print \"G * H^T: (must be zero, otherwise you suck)\"\n",
    "print np.mod(G.dot(H_sym.T), 2)"
   ]
  },
  {
   "cell_type": "code",
   "execution_count": 3,
   "metadata": {},
   "outputs": [
    {
     "name": "stdout",
     "output_type": "stream",
     "text": [
      "MIN WEIGHT: 3\n"
     ]
    }
   ],
   "source": [
    "def gen_permutations_nz(n):\n",
    "    res = [list(seq) for seq in itertools.product([0,1], repeat=n)]\n",
    "    del res[0]\n",
    "\n",
    "    return np.array(res)\n",
    "\n",
    "def get_min(g):\n",
    "    perm = gen_permutations_nz(g.shape[0])\n",
    "    return np.min(np.sum(np.mod(np.dot(perm, g), 2), axis = 1))\n",
    "\n",
    "\n",
    "print \"MIN WEIGHT: {}\".format(get_min(G))"
   ]
  },
  {
   "cell_type": "code",
   "execution_count": 4,
   "metadata": {},
   "outputs": [
    {
     "name": "stdout",
     "output_type": "stream",
     "text": [
      "CODEWORDS:\n",
      "001110\n",
      "010011\n",
      "011101\n",
      "100111\n",
      "101001\n",
      "110100\n",
      "111010\n"
     ]
    }
   ],
   "source": [
    "print \"CODEWORDS:\"\n",
    "for codeword in np.mod(gen_permutations_nz(3).dot(G), 2):\n",
    "    print \"\".join([str(i) for i in codeword])"
   ]
  },
  {
   "cell_type": "code",
   "execution_count": 5,
   "metadata": {},
   "outputs": [
    {
     "data": {
      "text/plain": [
       "'res_spen.pdf'"
      ]
     },
     "execution_count": 5,
     "metadata": {},
     "output_type": "execute_result"
    }
   ],
   "source": [
    "def gen_permutations(n):\n",
    "    res = [list(seq) for seq in itertools.product([0,1], repeat=n)]\n",
    "    return np.array(res)\n",
    "\n",
    "\n",
    "# Узел решетки        \n",
    "Node = namedtuple(\"Node\", \"actives uid edges\")   \n",
    "\n",
    "ids = 0\n",
    "def new_node(actives):\n",
    "    global ids\n",
    "    ids += 1\n",
    "    return Node(actives, ids - 1, [])\n",
    "  \n",
    "def count_label(node):\n",
    "    return \"\".join(map(str, node.actives.values()))\n",
    "\n",
    "# Построим узлы решётки\n",
    "g = G_MSF\n",
    "begins = np.apply_along_axis(lambda row: np.min(np.flatnonzero(row)), 1, g)\n",
    "ends   = np.apply_along_axis(lambda row: np.max(np.flatnonzero(row)), 1, g)\n",
    "\n",
    "# print(\"Begin:\", begins)\n",
    "# print(\"End:  \", ends)\n",
    "\n",
    "ids = 0\n",
    "layers  = [[new_node(dict())]]\n",
    "actives = [[]]\n",
    "for i in range(0, g.shape[1]):\n",
    "    layer  = []\n",
    "    active = np.nonzero(np.logical_and(begins <= i, i < ends))[0]\n",
    "    node_values = gen_permutations(len(active))\n",
    "    for node_value in node_values:\n",
    "        layer.append(new_node(dict(zip(active, node_value))))\n",
    "    \n",
    "    layers.append(layer)\n",
    "    actives.append(active + 1)\n",
    "    \n",
    "\n",
    "# print()\n",
    "# for i, layer in enumerate(layers):\n",
    "#     print(\"Layer\", i, \"symbols\", actives[i], \"nodes\", \", \".join(map(lambda n: \"{} : {}\".format(n.uid, count_label(n)), layer)))\n",
    "\n",
    "# Построим ребра решётки\n",
    "for i in range(len(layers) - 1):\n",
    "#     print(\"Layer \", i)\n",
    "    cur_layer = layers[i]\n",
    "    nex_layer = layers[i + 1]\n",
    "    for cur_node in cur_layer:\n",
    "        for nex_node in nex_layer:\n",
    "            isymbols = np.zeros(g.shape[0], np.int64) \n",
    "            mismatched = False\n",
    "            for pos in range(len(isymbols)):\n",
    "                value = cur_node.actives.get(pos)\n",
    "                if value is None:\n",
    "                    value = nex_node.actives.get(pos)\n",
    "                    if value is None:\n",
    "                        value = 0\n",
    "                else:\n",
    "                    nex_value = nex_node.actives.get(pos)\n",
    "                    if nex_value is not None and nex_value != value:\n",
    "                        mismatched = True\n",
    "                        break\n",
    "                isymbols[pos] = value\n",
    "            if mismatched:\n",
    "                continue\n",
    "            c = np.mod(np.dot(g[:,i], isymbols) , 2)\n",
    "#             print(\"{} --{}--> {}\".format(cur_node.uid, c, nex_node.uid))\n",
    "            cur_node.edges.append((c, nex_node))\n",
    "    \n",
    "# Построение графа с помощью утилиты graphviz \n",
    "dot = Digraph()\n",
    "dot.graph_attr['rankdir'] = 'LR'\n",
    "dot.graph_attr['nodesep'] = '0'\n",
    "dot.graph_attr['ranksep'] = '1'\n",
    "dot.graph_attr['splines'] = 'polyline'\n",
    "for i, layer in enumerate(layers):\n",
    "    with dot.subgraph(name='cluster_{}'.format(i)) as c:\n",
    "        c.attr(label='layer #{}\\nsymbols {}'.format(i, actives[i]), pencolor='transparent')\n",
    "        for node in layer:\n",
    "            label = count_label(node)\n",
    "            c.node(str(node.uid), label)\n",
    "            for edge in node.edges:\n",
    "                dot.edge(str(node.uid), str(edge[1].uid), str(edge[0]))\n",
    "\n",
    "dot.render('res_spen')  "
   ]
  },
  {
   "cell_type": "code",
   "execution_count": 6,
   "metadata": {},
   "outputs": [
    {
     "name": "stdout",
     "output_type": "stream",
     "text": [
      "SYNDROMES TABLE:\n",
      "('001', '000001')\n",
      "('010', '010000')\n",
      "('011', '000010')\n",
      "('100', '100000')\n",
      "('101', '001000')\n",
      "('110', '000100')\n",
      "('111', '000101')\n"
     ]
    }
   ],
   "source": [
    "def generate(l):\n",
    "    res = []\n",
    "    \n",
    "    for i in range(1, 2**l):\n",
    "        b = bin(i)[2:]\n",
    "        b = '0' * (l - len(b)) + b\n",
    "        b = np.array(list(map(lambda x: int(x), b)))\n",
    "        res.append(b)\n",
    "        \n",
    "    return np.array(res)\n",
    "\n",
    "n = 6\n",
    "k = 3\n",
    "r = 3\n",
    "\n",
    "a_s = generate(r)\n",
    "a_e = generate(n)\n",
    "\n",
    "def get_min(s):\n",
    "    res = a_e.shape[1]\n",
    "    for e in a_e:\n",
    "        if np.all(s == (np.dot(e, H.T) % 2)):\n",
    "            res = min(res, np.sum(e))\n",
    "    return res\n",
    "\n",
    "\n",
    "def get_syndrom_matrix():\n",
    "    res = []\n",
    "    for s in a_s:\n",
    "        m = get_min(s)\n",
    "        \n",
    "        for e in a_e:\n",
    "            if np.all(s == (np.dot(e, H.T) % 2)) and (np.sum(e) == m):\n",
    "                res.append((s, e))\n",
    "                break\n",
    "    \n",
    "    return res\n",
    "\n",
    "mat = get_syndrom_matrix()\n",
    "print \"SYNDROMES TABLE:\"\n",
    "for l in mat:\n",
    "    print(\"\".join([str(i) for i in l[0]]), \"\".join([str(i) for i in l[1]]))"
   ]
  },
  {
   "cell_type": "markdown",
   "metadata": {},
   "source": [
    "## Задача 2"
   ]
  },
  {
   "cell_type": "markdown",
   "metadata": {},
   "source": [
    "## Ввод для задачи 2"
   ]
  },
  {
   "cell_type": "code",
   "execution_count": 7,
   "metadata": {},
   "outputs": [],
   "source": [
    "N = 31\n",
    "D = 6\n",
    "FIELD_POLY = [1, 0, 1, 0, 0, 1]\n",
    "ALPHA = [0, 0, 0, 0, 1]\n",
    "MIN_POLYNOMES = [0, 1, 3]\n",
    "\n",
    "ERROR_COUNT = 2"
   ]
  },
  {
   "cell_type": "code",
   "execution_count": 8,
   "metadata": {},
   "outputs": [
    {
     "name": "stdout",
     "output_type": "stream",
     "text": [
      "{0: [0], 1: [1, 2, 4, 8, 16], 3: [3, 6, 12, 24, 17], 5: [5, 10, 20, 9, 18], 7: [7, 14, 28, 25, 19], 11: [11, 22, 13, 26, 21], 15: [15, 30, 29, 27, 23]}\n",
      "GALUA FIELD:\n",
      "(0, '00001')\n",
      "(1, '00010')\n",
      "(2, '00100')\n",
      "(3, '01000')\n",
      "(4, '10000')\n",
      "(5, '01001')\n",
      "(6, '10010')\n",
      "(7, '01101')\n",
      "(8, '11010')\n",
      "(9, '11101')\n",
      "(10, '10011')\n",
      "(11, '01111')\n",
      "(12, '11110')\n",
      "(13, '10101')\n",
      "(14, '00011')\n",
      "(15, '00110')\n",
      "(16, '01100')\n",
      "(17, '11000')\n",
      "(18, '11001')\n",
      "(19, '11011')\n",
      "(20, '11111')\n",
      "(21, '10111')\n",
      "(22, '00111')\n",
      "(23, '01110')\n",
      "(24, '11100')\n",
      "(25, '10001')\n",
      "(26, '01011')\n",
      "(27, '10110')\n",
      "(28, '00101')\n",
      "(29, '01010')\n",
      "(30, '10100')\n",
      "(-1, '00000')\n"
     ]
    }
   ],
   "source": [
    "# Count cyclotomic classes\n",
    "\n",
    "c_classes = {}\n",
    "\n",
    "def init_c_class(i, n):\n",
    "        c_class = [i]\n",
    "        while True:\n",
    "            nxt = (c_class[-1] * 2) % n\n",
    "            if not nxt in c_class:\n",
    "                c_class.append(nxt)\n",
    "            else:\n",
    "                break\n",
    "        return c_class\n",
    "\n",
    "used = [False for i in range(N)]\n",
    "for i in range(N):\n",
    "    if used[i] == False:\n",
    "        c_class = init_c_class(i, N)\n",
    "        for val in c_class:\n",
    "            used[val] = True\n",
    "        c_classes[i] = c_class\n",
    "\n",
    "print c_classes\n",
    "        \n",
    "def add_mod(a, b):\n",
    "    for i in range(len(a)):\n",
    "        a[i] = (a[i] + b[i]) % 2\n",
    "    return a\n",
    "\n",
    "class GaloisField(object):\n",
    "    def __init__(self, poly):\n",
    "        self.n = 2 ** (len(poly) - 1)\n",
    "        self.mod = poly[1:]\n",
    "        self.pow_to_poly = {}\n",
    "        self.pow_to_poly[-1] = np.zeros(len(self.mod))\n",
    "        one = np.zeros(len(self.mod))\n",
    "        one[-1] = 1\n",
    "        self.pow_to_poly[0] = one\n",
    "    \n",
    "    def build(self, gen_poly):\n",
    "        for i in range(1, self.n-1):\n",
    "            c = self.mul(self.pow_to_poly[i-1], gen_poly)\n",
    "            self.pow_to_poly[i] = c\n",
    "    \n",
    "    def mul(self, a, b):\n",
    "        c = np.zeros(len(a))\n",
    "        for i in reversed(range(len(b))):\n",
    "            for j in reversed(range(len(a))):\n",
    "                if b[i] == 1 and a[j] == 1:\n",
    "                    k = len(c) - len(b) - len(a) + i + j\n",
    "                    if k >= 0:\n",
    "                        c[k] = (c[k] + a[j]) % 2\n",
    "                    else:\n",
    "                        add_mod(c, self.mod)\n",
    "        return c\n",
    "    \n",
    "    def get_power(self, a):\n",
    "        for k, v in self.pow_to_poly.items():\n",
    "            if np.array_equal(v, a):\n",
    "                return k\n",
    "        return -2\n",
    "    \n",
    "gf = GaloisField(FIELD_POLY)\n",
    "gf.build(ALPHA)\n",
    "print \"GALUA FIELD:\"\n",
    "for k, v in gf.pow_to_poly.items():\n",
    "    print(k, \"\".join([str(int(i)) for i in v]))"
   ]
  },
  {
   "cell_type": "code",
   "execution_count": 9,
   "metadata": {},
   "outputs": [
    {
     "name": "stdout",
     "output_type": "stream",
     "text": [
      "GENERATING POLYNOME:\n",
      "[0, 3, 4, 6, 7, 8, 10, 11]\n"
     ]
    }
   ],
   "source": [
    "stack = []\n",
    "\n",
    "def mult(a, b):\n",
    "    res = []\n",
    "    for i in range(len(a) + len(b)):\n",
    "        res.append([])\n",
    "    for idx_a, pows_a in enumerate(a):\n",
    "        for idx_b, pows_b in enumerate(b):\n",
    "            for i_a in pows_a:\n",
    "                for i_b in pows_b:\n",
    "                    res[idx_a + idx_b].append(i_a + i_b)\n",
    "    return res\n",
    "                    \n",
    "    \n",
    "def build_gen_poly(indexes):\n",
    "    res = []\n",
    "    for ind in indexes:\n",
    "        c_class = c_classes[ind]\n",
    "        for val in c_class:\n",
    "            stack.append([[val], [0]])\n",
    "    while not len(stack) == 1:\n",
    "        stack.append(mult(stack.pop(), stack.pop()));\n",
    "    coef = stack[0]\n",
    "    size = len(gf.mod)\n",
    "    for idx, val in enumerate(coef):\n",
    "        a = np.zeros(size)\n",
    "        for pow in val:\n",
    "            add_mod(a, gf.pow_to_poly[pow % N])\n",
    "        if any(a_val != 0 for a_val in a):\n",
    "            res.append(idx)\n",
    "    return res\n",
    "gen_poly = build_gen_poly(MIN_POLYNOMES)\n",
    "print \"GENERATING POLYNOME:\"\n",
    "print gen_poly"
   ]
  },
  {
   "cell_type": "code",
   "execution_count": 10,
   "metadata": {
    "scrolled": true
   },
   "outputs": [
    {
     "name": "stdout",
     "output_type": "stream",
     "text": [
      "SPOILED WORD:\n",
      "[1, 3, 4, 6, 7, 8, 10, 11]\n"
     ]
    }
   ],
   "source": [
    "WORD = list(gen_poly)\n",
    "\n",
    "for i in range(ERROR_COUNT):\n",
    "    if i in WORD:\n",
    "        WORD.remove(i)\n",
    "    else:\n",
    "        WORD.insert(0, i)\n",
    "print \"SPOILED WORD:\"\n",
    "print WORD"
   ]
  },
  {
   "cell_type": "code",
   "execution_count": 11,
   "metadata": {},
   "outputs": [
    {
     "name": "stdout",
     "output_type": "stream",
     "text": [
      "SYNDROME POLYNOME:\n",
      "[14, 28, 5, 25, 23]\n"
     ]
    }
   ],
   "source": [
    "def ind_to_pow(i, field, powers, n):\n",
    "    size = len(field.mod)\n",
    "    a = np.zeros(size)\n",
    "    for pow in powers:\n",
    "        add_mod(a, field.pow_to_poly[(pow * i) % n])\n",
    "    for k, v in field.pow_to_poly.items():\n",
    "        if np.array_equal(v, a):\n",
    "            return k\n",
    "    return -2\n",
    "\n",
    "\n",
    "def build_synd_poly(field, n, d, powers):\n",
    "    return map(lambda x: ind_to_pow(x, field, powers, n), range(1, d))\n",
    "\n",
    "synd_poly = build_synd_poly(gf, N, D, WORD)\n",
    "print \"SYNDROME POLYNOME:\"\n",
    "print synd_poly"
   ]
  },
  {
   "cell_type": "code",
   "execution_count": 12,
   "metadata": {},
   "outputs": [],
   "source": [
    "B = synd_poly[ERROR_COUNT: 2 * ERROR_COUNT]\n",
    "A = []\n",
    "for i in range(ERROR_COUNT):\n",
    "    A.append(synd_poly[i:i + ERROR_COUNT])"
   ]
  },
  {
   "cell_type": "code",
   "execution_count": 13,
   "metadata": {},
   "outputs": [
    {
     "name": "stdout",
     "output_type": "stream",
     "text": [
      "LOCATOR POLYNOME COEFFS:\n",
      "[0, 14, 1]\n"
     ]
    }
   ],
   "source": [
    "def copy_add_mod(a, b):\n",
    "    tmp = []\n",
    "    for i in range(len(a)):\n",
    "        tmp.append((a[i] + b[i]) % 2)\n",
    "    return tmp\n",
    "\n",
    "def solve(gf, n, a, b):\n",
    "    for i in range(len(a)):\n",
    "        pow = n - a[i][i]\n",
    "        for j in range(i, len(a[i])):\n",
    "            a[i][j] = (a[i][j] + pow) % n\n",
    "        b[i] = (b[i] + pow) % n\n",
    "        for j in range(i + 1, len(a)):\n",
    "            diff_pow = a[j][i] - a[i][i]\n",
    "            for k in range(i, len(a[j])):\n",
    "                add1 = gf.pow_to_poly[(a[i][k] + diff_pow) % n]\n",
    "                add2 = gf.pow_to_poly[a[j][k]]\n",
    "                tmp = copy_add_mod(add1, add2)\n",
    "                a[j][k] = gf.get_power(tmp)\n",
    "            add1 = gf.pow_to_poly[(b[i] + diff_pow) % n]\n",
    "            add2 = gf.pow_to_poly[b[j]]\n",
    "            tmp = copy_add_mod(add1, add2)\n",
    "            b[j] = gf.get_power(tmp)\n",
    "    \n",
    "    for i in reversed(range(len(a))):\n",
    "        for j in range(i):\n",
    "            pow = a[j][i]\n",
    "            a[j][i] = -1\n",
    "            tmp = copy_add_mod(gf.pow_to_poly[(b[i] + pow) % n], gf.pow_to_poly[b[j]])\n",
    "            b[j] = gf.get_power(tmp)\n",
    "    return b\n",
    "\n",
    "sol = solve(gf, N, A, B)\n",
    "sol = list(reversed(sol + [0]))\n",
    "print \"LOCATOR POLYNOME COEFFS:\"\n",
    "print sol"
   ]
  },
  {
   "cell_type": "code",
   "execution_count": 14,
   "metadata": {},
   "outputs": [
    {
     "name": "stdout",
     "output_type": "stream",
     "text": [
      "ERROR POSITON:\n",
      "[0, 1]\n"
     ]
    }
   ],
   "source": [
    "def is_root(x, gf, coefs, n):\n",
    "    res = np.zeros(len(gf.mod))\n",
    "    for j, val in enumerate(coefs):\n",
    "        if val != -1:\n",
    "            add_mod(res, gf.pow_to_poly[(val + x * j) % n])\n",
    "    return all(r == 0 for r in res)\n",
    "    \n",
    "\n",
    "def find_locator_error(gf, n, coefs):\n",
    "    tmp = filter(lambda x: is_root(x, gf, coefs, n), range(n))\n",
    "    return map(lambda i: (n - i) % n, tmp)\n",
    "\n",
    "locator_errors = find_locator_error(gf, N, sol)\n",
    "print \"ERROR POSITON:\"\n",
    "print locator_errors"
   ]
  },
  {
   "cell_type": "code",
   "execution_count": 15,
   "metadata": {},
   "outputs": [
    {
     "name": "stdout",
     "output_type": "stream",
     "text": [
      "ERROR VALUES:\n",
      "[0, 0]\n"
     ]
    }
   ],
   "source": [
    "B = synd_poly[:ERROR_COUNT]\n",
    "A = []\n",
    "for i in range(ERROR_COUNT):\n",
    "    A.append([])\n",
    "    for j in range(ERROR_COUNT):\n",
    "        A[i].append(locator_errors[j] * (i + 1) % N)\n",
    "error_values = solve(gf, N, A, B)\n",
    "print \"ERROR VALUES:\"\n",
    "print error_values"
   ]
  },
  {
   "cell_type": "code",
   "execution_count": 20,
   "metadata": {},
   "outputs": [
    {
     "name": "stdout",
     "output_type": "stream",
     "text": [
      "H(version_1)\n",
      "1111111111111111111111111111111\n",
      "0000000000000000000000000000000<-- спорно; зависит от ответа Кудряшова\n",
      "0000000000000000000000000000000<-- спорно; зависит от ответа Кудряшова\n",
      "0000000000000000000000000000000<-- спорно; зависит от ответа Кудряшова\n",
      "0000000000000000000000000000000<-- спорно; зависит от ответа Кудряшова\n",
      "1000010101110110001111100110100\n",
      "0100001010111011000111110011010\n",
      "0010000101011101100011111001101\n",
      "0001010111011000111110011010010\n",
      "0000101011101100011111001101001\n",
      "1001001100001011010100011101111\n",
      "0010110101000111011111001001100\n",
      "0001110111110010011000010110101\n",
      "0101101010001110111110010011000\n",
      "0011101111100100110000101101010\n"
     ]
    }
   ],
   "source": [
    "range_i = MIN_POLYNOMES\n",
    "\n",
    "def print_H(range_i):\n",
    "    H = [[] for i in range_i]\n",
    "    for idx, i in enumerate(range_i):\n",
    "        for j in range(N):\n",
    "            cur_deg = gf.pow_to_poly[j * (i) % N]\n",
    "            pow = gf.get_power(cur_deg)\n",
    "            H[idx].append(cur_deg)\n",
    "    for row in H:\n",
    "        for bin_row in reversed(list(np.transpose(row))):\n",
    "            s = \"\".join([str(int(i)) for i in bin_row])\n",
    "            if 1 in bin_row:\n",
    "                print s\n",
    "            else:\n",
    "                print s + \"<-- спорно; зависит от ответа Кудряшова\"\n",
    "            \n",
    "print \"H(version_1)\"\n",
    "print_H(range_i)"
   ]
  },
  {
   "cell_type": "code",
   "execution_count": 21,
   "metadata": {},
   "outputs": [
    {
     "name": "stdout",
     "output_type": "stream",
     "text": [
      "H(version_2)\n",
      "1111111111111111111111111111111\n",
      "0000000000000000000000000000000<-- спорно; зависит от ответа Кудряшова\n",
      "0000000000000000000000000000000<-- спорно; зависит от ответа Кудряшова\n",
      "0000000000000000000000000000000<-- спорно; зависит от ответа Кудряшова\n",
      "0000000000000000000000000000000<-- спорно; зависит от ответа Кудряшова\n",
      "1000010101110110001111100110100\n",
      "0100001010111011000111110011010\n",
      "0010000101011101100011111001101\n",
      "0001010111011000111110011010010\n",
      "0000101011101100011111001101001\n",
      "1000010101110110001111100110100\n",
      "0001111100110100100001010111011\n",
      "0100001010111011000111110011010\n",
      "0000101011101100011111001101001\n",
      "0011111001101001000010101110110\n",
      "1001001100001011010100011101111\n",
      "0010110101000111011111001001100\n",
      "0001110111110010011000010110101\n",
      "0101101010001110111110010011000\n",
      "0011101111100100110000101101010\n"
     ]
    }
   ],
   "source": [
    "range_i = range(MIN_POLYNOMES[0], MIN_POLYNOMES[0] + D - 2)\n",
    "\n",
    "print \"H(version_2)\"\n",
    "print_H(range_i)"
   ]
  },
  {
   "cell_type": "code",
   "execution_count": null,
   "metadata": {},
   "outputs": [],
   "source": []
  },
  {
   "cell_type": "code",
   "execution_count": null,
   "metadata": {},
   "outputs": [],
   "source": []
  }
 ],
 "metadata": {
  "kernelspec": {
   "display_name": "Python 2",
   "language": "python",
   "name": "python2"
  },
  "language_info": {
   "codemirror_mode": {
    "name": "ipython",
    "version": 2
   },
   "file_extension": ".py",
   "mimetype": "text/x-python",
   "name": "python",
   "nbconvert_exporter": "python",
   "pygments_lexer": "ipython2",
   "version": "2.7.12"
  }
 },
 "nbformat": 4,
 "nbformat_minor": 2
}
